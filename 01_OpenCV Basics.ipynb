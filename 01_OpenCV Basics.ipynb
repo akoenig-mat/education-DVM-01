{
 "cells": [
  {
   "cell_type": "markdown",
   "metadata": {},
   "source": [
    "# Install Anaconda\n",
    "\n",
    "Anaconda is a free and open-source distribution of the Python and R programming languages for scientific computing (data science, machine learning applications, large-scale data processing, predictive analytics, etc.), that aims to simplify package management and deployment.\n",
    "\n",
    "Download and install Anaconda Python 3.7 64-Bit from:\n",
    "\n",
    "https://www.anaconda.com/\n",
    "\n",
    "If you are not familiar with Python and never heard of Jupyter Notebook you might watch the introduction on https://www.youtube.com/watch?v=CsN77JZDcA4\n",
    "\n",
    "It basically comes with all we need so far and enables you to run the code on this site (you may want do download it before, see to do that by following this link: https://help.github.com/en/github/creating-cloning-and-archiving-repositories/cloning-a-repository )\n"
   ]
  },
  {
   "cell_type": "code",
   "execution_count": 1,
   "metadata": {},
   "outputs": [],
   "source": [
    "import numpy as np\n",
    "import cv2"
   ]
  },
  {
   "cell_type": "markdown",
   "metadata": {},
   "source": [
    "with \"import\" you can import code from other modules. Here we use it to import two crucial libaries:\n",
    "\n",
    "## NumPy\n",
    "\n",
    "NumPy a library for the Python programming language, adding support for large, multi-dimensional arrays and matrices, along with a large collection of high-level mathematical functions to operate on these arrays. https://numpy.org/\n",
    "\n",
    "## OpenCv\n",
    "OpenCV-Python is a library of Python bindings designed to solve computer vision problems. https://opencv.org/about/\n",
    "\n",
    "To install this package with conda run in the Anaconda Comand line<br>\n",
    "<b>conda install -c conda-forge opencv</b>\n",
    "\n",
    "( see https://anaconda.org/conda-forge/opencv for details)"
   ]
  },
  {
   "cell_type": "code",
   "execution_count": null,
   "metadata": {},
   "outputs": [],
   "source": [
    "#This creates a variable \"cap\" and maps that to the input of your webcam. \n",
    "#If you can't get a picture try to change the number from (0) to (1) \n",
    "#or higher!\n",
    "cap = cv2.VideoCapture(0)\n",
    "\n",
    "\n",
    "while(True):\n",
    "    # Capture frame-by-frame\n",
    "    ret, frame = cap.read()\n",
    "\n",
    "    # Display the resulting frame\n",
    "    if cv2.waitKey(1) & 0xFF == ord('q'):\n",
    "        break\n",
    "\n",
    "# When everything done, release the capture\n",
    "cap.release()\n",
    "cv2.destroyAllWindows()"
   ]
  },
  {
   "cell_type": "markdown",
   "metadata": {},
   "source": [
    "We get a frame from our camera and display it in a \"while\" loop till the \"q\" key is pressed."
   ]
  },
  {
   "cell_type": "code",
   "execution_count": 12,
   "metadata": {},
   "outputs": [],
   "source": [
    "#This creates a variable \"cap\" and maps that to the input of your webcam. \n",
    "#If you can't get a picture try to change the number from (0) to (1) \n",
    "#or higher!\n",
    "cap = cv2.VideoCapture(0)\n",
    "\n",
    "\n",
    "while(True):\n",
    "    # Capture frame-by-frame\n",
    "    ret, frame = cap.read()\n",
    "\n",
    "    # Our operations on the frame come here\n",
    "    gray = cv2.cvtColor(frame, cv2.COLOR_BGR2GRAY)\n",
    "\n",
    "    # Display the resulting frame\n",
    "    cv2.imshow('frame',gray)\n",
    "    if cv2.waitKey(1) & 0xFF == ord('q'):\n",
    "        break\n",
    "\n",
    "# When everything done, release the capture\n",
    "cap.release()\n",
    "cv2.destroyAllWindows()"
   ]
  },
  {
   "cell_type": "markdown",
   "metadata": {},
   "source": [
    "We get a frame from our camera and display it in a \"while\" loop till the \"q\" key is pressed. We also adress the variable \"grey\" to the color convert funktion of OpenCv that makes the image grey. https://docs.opencv.org/3.4/de/d25/imgproc_color_conversions.html"
   ]
  },
  {
   "cell_type": "code",
   "execution_count": null,
   "metadata": {},
   "outputs": [],
   "source": []
  },
  {
   "cell_type": "code",
   "execution_count": 13,
   "metadata": {},
   "outputs": [],
   "source": [
    "cap = cv2.VideoCapture(0)\n",
    "\n",
    "while(True):\n",
    "    # Capture frame-by-frame\n",
    "    ret, frame = cap.read()\n",
    "\n",
    "    # Our operations on the frame come here\n",
    "    gray = cv2.cvtColor(frame, cv2.COLOR_BGR2GRAY)\n",
    "    canny = cv2.Canny(gray,100,200)\n",
    "\n",
    "    # Display the resulting frame\n",
    "    cv2.imshow('frame',canny)\n",
    "    if cv2.waitKey(1) & 0xFF == ord('q'):\n",
    "        break\n",
    "\n",
    "# When everything done, release the capture\n",
    "cap.release()\n",
    "cv2.destroyAllWindows()"
   ]
  },
  {
   "cell_type": "markdown",
   "metadata": {},
   "source": [
    "We get a frame from our camera and display it in a \"while\" loop till the \"q\" key is pressed. We also adress the variable \"grey\" to the color convert funktion of OpenCv that makes the image grey. <br>\n",
    "Then we use a Canny Edge Detection. Try to change the value in the brackets from 100 / 200 to other values. https://docs.opencv.org/trunk/da/d22/tutorial_py_canny.html "
   ]
  },
  {
   "cell_type": "code",
   "execution_count": null,
   "metadata": {},
   "outputs": [],
   "source": []
  }
 ],
 "metadata": {
  "kernelspec": {
   "display_name": "Python 3",
   "language": "python",
   "name": "python3"
  },
  "language_info": {
   "codemirror_mode": {
    "name": "ipython",
    "version": 3
   },
   "file_extension": ".py",
   "mimetype": "text/x-python",
   "name": "python",
   "nbconvert_exporter": "python",
   "pygments_lexer": "ipython3",
   "version": "3.7.3"
  }
 },
 "nbformat": 4,
 "nbformat_minor": 2
}
